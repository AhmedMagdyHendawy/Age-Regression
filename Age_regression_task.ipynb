{
  "nbformat": 4,
  "nbformat_minor": 0,
  "metadata": {
    "accelerator": "GPU",
    "colab": {
      "name": "Age_regression_task.ipynb",
      "provenance": [],
      "collapsed_sections": []
    },
    "kernelspec": {
      "display_name": "Python 3",
      "language": "python",
      "name": "python3"
    },
    "language_info": {
      "codemirror_mode": {
        "name": "ipython",
        "version": 3
      },
      "file_extension": ".py",
      "mimetype": "text/x-python",
      "name": "python",
      "nbconvert_exporter": "python",
      "pygments_lexer": "ipython3",
      "version": "3.6.9"
    }
  },
  "cells": [
    {
      "cell_type": "markdown",
      "metadata": {
        "colab_type": "text",
        "id": "oa10OpnEvNm9"
      },
      "source": [
        "# Deep learning programming I-B: Age Regression\n",
        "Felix Wiewel, Institute of Signal Processing and System Theory, University of Stuttgart, 24.04.2020\n",
        "\n",
        "## Introduction\n",
        "This exercise is the second part of the regression homework in the course Deep Learning. While we covered a very basic regression task on synthetic data in the last part, we will now turn to the task of age regression. The task is to infer the age of a person given a potrait picture of him or her. Intuatively this task seems to be easy at first, you are shown a potrait of a person and need to estimate his or her age. But implementing such an estimator on a computer is rather challenging. If you want to use a model based machine learning algorithm, you would need some sort of model or set of rules, which maps the raw pixel values of an image to an estimated age. This would require a lot of expert knowledge and feature design. Fortunately we can use neural networks to learn such a mapping directly from annotated examples, i.e. potraits labeled with the age of the person in the picture. In this way we just need enough examples and don't have to design the probably very complex mapping from pixels to age ourselves. We will build on the mathematical fomulation from the last exercise and take a sligthly different approach for the implementation. So it is recommended to work through the first part of the exercise before starting with this part.\n",
        "\n",
        "## GPU support\n",
        "In order to speed up calculations with Tensorflow, we need to change the runtime type of this notebook to GPU. For this click on \"Runtime\" in the top left menu and select \"Change runtime type\". Then choose \"GPU\" in the drop down list under \"Hardware accelerator\". This will enable Tensorflow to execute calculations on a GPU provided by Google Colab.\n",
        "\n",
        "## Data Set\n",
        "The data set we use in this exercise is called UTKFaces (https://susanqq.github.io/UTKFace/). It contains over $20000$ images of people with ages from the interval $\\left[0,116\\right]$. Although the individual images are labeled with the age, gender and ethnicity, we will only use the age annotation in this exercise. The images in this data set are available in two different sets. The \"In-the-wild Faces\" set contains images in their original size and orientation and the \"Aligned&Cropped Faces\" contains all images with the face aligned in the middle and the size cropped to $200\\times 200$ pixels. Since the aligned and cropped set is simpler to work with and requires less memory, we will use it in this exercise. But before we can use the data set, we have to download it. This is done with the following commands."
      ]
    },
    {
      "cell_type": "code",
      "metadata": {
        "colab_type": "code",
        "id": "ZaWLfEhUu4QM",
        "outputId": "c587f4b6-092e-4042-ce0c-811fff60a5c5",
        "colab": {
          "base_uri": "https://localhost:8080/",
          "height": 258
        }
      },
      "source": [
        "!mkdir data\n",
        "!pip install gdown\n",
        "!gdown https://drive.google.com/uc?id=0BxYys69jI14kYVM3aVhKS1VhRUk\n",
        "!mv UTKFace.tar.gz data"
      ],
      "execution_count": 1,
      "outputs": [
        {
          "output_type": "stream",
          "text": [
            "mkdir: cannot create directory ‘data’: File exists\n",
            "Requirement already satisfied: gdown in /usr/local/lib/python3.6/dist-packages (3.6.4)\n",
            "Requirement already satisfied: tqdm in /usr/local/lib/python3.6/dist-packages (from gdown) (4.41.1)\n",
            "Requirement already satisfied: six in /usr/local/lib/python3.6/dist-packages (from gdown) (1.12.0)\n",
            "Requirement already satisfied: requests in /usr/local/lib/python3.6/dist-packages (from gdown) (2.23.0)\n",
            "Requirement already satisfied: urllib3!=1.25.0,!=1.25.1,<1.26,>=1.21.1 in /usr/local/lib/python3.6/dist-packages (from requests->gdown) (1.24.3)\n",
            "Requirement already satisfied: chardet<4,>=3.0.2 in /usr/local/lib/python3.6/dist-packages (from requests->gdown) (3.0.4)\n",
            "Requirement already satisfied: certifi>=2017.4.17 in /usr/local/lib/python3.6/dist-packages (from requests->gdown) (2020.4.5.1)\n",
            "Requirement already satisfied: idna<3,>=2.5 in /usr/local/lib/python3.6/dist-packages (from requests->gdown) (2.9)\n",
            "Downloading...\n",
            "From: https://drive.google.com/uc?id=0BxYys69jI14kYVM3aVhKS1VhRUk\n",
            "To: /content/UTKFace.tar.gz\n",
            "107MB [00:00, 110MB/s]  \n"
          ],
          "name": "stdout"
        }
      ]
    },
    {
      "cell_type": "markdown",
      "metadata": {
        "colab_type": "text",
        "id": "o1pDCzZ6Dk2t"
      },
      "source": [
        "With these commands we created a folder named \"data\" and downloaded the data set into it. The data set is contained in an archive, which needs to be extracted before we can work with it. Since we will need to load individual images in the coming exercise, it makes sense to first extract the data and then retreive a list with all extracted files. For this we first import all necessary packages and then define a function, which extracts the data and returns a list with all available file names and since the labels are encoded in the file names we directly extract a corresponding list of labels."
      ]
    },
    {
      "cell_type": "code",
      "metadata": {
        "colab_type": "code",
        "id": "9Rysv6DCDkft",
        "colab": {}
      },
      "source": [
        "import tarfile\n",
        "import os\n",
        "import glob\n",
        "import tensorflow as tf\n",
        "import tensorflow.keras as k\n",
        "import matplotlib.pyplot as plt\n",
        "import numpy as np\n",
        "\n",
        "def load_file_names():\n",
        "    # Check if data has been extracted and if not extract it\n",
        "    if (os.path.isdir(\"./data/UTKFace\")):\n",
        "        print(\"Data set already extracted...\")\n",
        "    else:\n",
        "        print(\"Extracting data set...\")\n",
        "        tar = tarfile.open(\"./data/UTKFace.tar.gz\")\n",
        "        tar.extractall(\"./data\")\n",
        "        tar.close()\n",
        "\n",
        "    # Get a list of all files in data set\n",
        "    files = glob.glob(\"./data/UTKFace/*.jpg\")\n",
        "    labels = [int(f_name.split(\"/\")[-1].split(\"_\")[0]) for f_name in files]\n",
        "    return files, labels"
      ],
      "execution_count": 0,
      "outputs": []
    },
    {
      "cell_type": "markdown",
      "metadata": {
        "colab_type": "text",
        "id": "XUCJEBM1EY-z"
      },
      "source": [
        "We can now use this function to plot an individual image and the age of the person in that image.."
      ]
    },
    {
      "cell_type": "code",
      "metadata": {
        "colab_type": "code",
        "id": "lhV-eakrE0XB",
        "outputId": "a2b43e69-7b00-47c0-8e95-24c7aa23c021",
        "colab": {
          "base_uri": "https://localhost:8080/",
          "height": 281
        }
      },
      "source": [
        "files, labels = load_file_names()\n",
        "img = plt.imread(files[0])\n",
        "plt.imshow(img)\n",
        "plt.title(\"Age: {}\".format(labels[0]))\n",
        "plt.axis(\"off\")\n",
        "plt.show()"
      ],
      "execution_count": 3,
      "outputs": [
        {
          "output_type": "stream",
          "text": [
            "Data set already extracted...\n"
          ],
          "name": "stdout"
        },
        {
          "output_type": "display_data",
          "data": {
            "image/png": "[encoded data removed]",
            "text/plain": [
              "<Figure size 432x288 with 1 Axes>"
            ]
          },
          "metadata": {
            "tags": [],
            "needs_background": "light"
          }
        }
      ]
    },
    {
      "cell_type": "markdown",
      "metadata": {
        "colab_type": "text",
        "id": "dYW0N607dHFk"
      },
      "source": [
        "We should also check the distribution of the labels. For this we will print the unique labels contained in our data set."
      ]
    },
    {
      "cell_type": "code",
      "metadata": {
        "colab_type": "code",
        "id": "fLOkahM9dTxI",
        "outputId": "9f84533d-6897-4146-e5b4-96b9f6526683",
        "colab": {
          "base_uri": "https://localhost:8080/",
          "height": 119
        }
      },
      "source": [
        "print(np.unique(labels))"
      ],
      "execution_count": 4,
      "outputs": [
        {
          "output_type": "stream",
          "text": [
            "[  1   2   3   4   5   6   7   8   9  10  11  12  13  14  15  16  17  18\n",
            "  19  20  21  22  23  24  25  26  27  28  29  30  31  32  33  34  35  36\n",
            "  37  38  39  40  41  42  43  44  45  46  47  48  49  50  51  52  53  54\n",
            "  55  56  57  58  59  60  61  62  63  64  65  66  67  68  69  70  71  72\n",
            "  73  74  75  76  77  78  79  80  81  82  83  84  85  86  87  88  89  90\n",
            "  91  92  93  95  96  99 100 101 103 105 110 111 115 116]\n"
          ],
          "name": "stdout"
        }
      ]
    },
    {
      "cell_type": "markdown",
      "metadata": {
        "colab_type": "text",
        "id": "2VkgukOnaDI9"
      },
      "source": [
        "As we can see, the data set contains only integer values as the age label. With such a distribution of labels you could also try to solve the problem of mapping an input image to an age by classifiaction. This is a valid approach but not the one we are interested in. We want to take an image of a person and regress his or her age exactly. Since the potraits in our training data set were certainly not taken in the exact moment that person's age was exactly an integer, we can conclude that the labeling is not well suited for our problem. But since these are the only labels we get for this data set, we have to use them and accept the slightly incorrect labels. We can also think of this discrepancy between the exact age of the person when the photo was taken and the assigned label as noise, i.e. we are given noisy labels.\n",
        "\n",
        "In this exercise we will use a slightly different way to define our model when compared with the previous part. This time we will derive a new model class from the Model class provided by Keras. This comes with several advantages. First, we can use predefined layer classes from Keras in order to build our model. See the [documentation](https://www.tensorflow.org/versions/r2.2/api_docs/python/tf/keras/layers) for a list of all available layers and detailed information on how to use them. Second, we don't need to manage the variables which store the weights of our model manually. Keras takes care of this and provides a list of all trainable variables of the model. Third, we can use the fit and fit_generator function of a Keras model in order to easily train our model. These functions offer a simple interface to implement a lot of different ways for training. But since sometimes one needs to implement a custom training loop, we will not use this function yet but rather implement our own training loop. Now your task is to define a suitable model architecture for the regression of a scalar value like the age of a person from an image."
      ]
    },
    {
      "cell_type": "code",
      "metadata": {
        "colab_type": "code",
        "id": "v4Kd0bwDcgKH",
        "colab": {}
      },
      "source": [
        "\"\"\" Implement a small CNN with two convolutional and three dense layers. The conv. layers should have 8 and 16 filters of size 5x5, astride of 4 and a ReLU activation. Also create a flatten layer and a dropout layer \n",
        "with 0.2 droprate. The dense layers should have 128, 64 and 1 neurons and again a ReLU activation. For implementing the layers use predefined layer classes of Keras, e.g. k.layers.Conv2D or k.layers.Dense. \n",
        "Hint: Create the layer objects in the constructor and call them in the right order for implementing the forward pass. You need to pass the \"training\" argument to the dropout layer in order to activate dropout during \n",
        "training and deactivate it during testing. \"\"\"\n",
        "\n",
        "class MyModel(k.Model):\n",
        "    def __init__(self):\n",
        "        # Create layers\n",
        "        super(MyModel, self).__init__()\n",
        "        self.conv0 = tf.keras.layers.Conv2D(8,(5,5),4,activation='relu')\n",
        "        self.conv1 = tf.keras.layers.Conv2D(16,(5,5),4,activation='relu')\n",
        "        self.flatten = tf.keras.layers.Flatten()\n",
        "        self.dropout = tf.keras.layers.Dropout(0.2)\n",
        "        self.dense0 = tf.keras.layers.Dense(128,activation='relu')\n",
        "        self.dense1 = tf.keras.layers.Dense(64,activation='relu')\n",
        "        self.dense2 = tf.keras.layers.Dense(1,activation='relu')\n",
        "\n",
        "    def call(self, inputs, training=False):\n",
        "        # Implement forward pass\n",
        "        output = self.conv0(inputs)\n",
        "        output = self.conv1(output)\n",
        "        output = self.flatten(output)\n",
        "        output = self.dropout(output,training=training)\n",
        "        output = self.dense0(output)\n",
        "        output = self.dense1(output)\n",
        "        output = self.dense2(output)\n",
        "        return output"
      ],
      "execution_count": 0,
      "outputs": []
    },
    {
      "cell_type": "markdown",
      "metadata": {
        "colab_type": "text",
        "id": "qjT0wAvsfrWC"
      },
      "source": [
        "Notice that in the previous part we defined a \\__call__ function and now define a call function. This call function is required by Keras but we can still predict with the model just by calling it on an input tensor. For training the model we again need to define some hyperparameters."
      ]
    },
    {
      "cell_type": "code",
      "metadata": {
        "colab_type": "code",
        "id": "VWErNUSCfxYu",
        "colab": {}
      },
      "source": [
        "N_epochs = 20\n",
        "learning_rate = 0.001\n",
        "batch_size = 64\n",
        "N_training_examples = 20000\n",
        "N_validation_examples = 4*batch_size\n",
        "\n",
        "N_parallel_iterations = 4\n",
        "N_prefetch = 8\n",
        "N_shuffle_buffer = 20000"
      ],
      "execution_count": 0,
      "outputs": []
    },
    {
      "cell_type": "markdown",
      "metadata": {
        "colab_type": "text",
        "id": "GWP_R8I9f5oy"
      },
      "source": [
        "We will train the model for $20$ epochs with a batch size of $64$ and a learning rate of $0.001$.  We will use $20000$ examples for training $4$ batches for validation and the remaining data for testing of the model. We also define some parameters, which are used to create the Dataset objects. With these definitions we can build the data set objects used for training, validation and testing."
      ]
    },
    {
      "cell_type": "code",
      "metadata": {
        "colab_type": "code",
        "id": "tDmQ11FQgeGP",
        "colab": {
          "base_uri": "https://localhost:8080/",
          "height": 68
        },
        "outputId": "a5e7101f-8d12-4ac5-d4d0-9b27010ffd2e"
      },
      "source": [
        "\"\"\" Since we only have the file name and labels of the images, we need to actually load an image into system memory if it is needed. For this we will define a function that parses the image, normalizes it and reshapes \n",
        "the label. This reshaping is a technical detail that avoids unintended behaivior during the calculation of the loss, i.e. it avoids unintended broadcasting. Your task is to fill in the missing code for loading, \n",
        "decoding and normalizing the image. In this example we normalize the image to pixels in the range between 0 and 1. Hint: For reading and decoding the image use the functions defined in tf.io. The images are stored in the\n",
        "JPEG format.\"\"\"\n",
        "\n",
        "def parse_func(filename, label):\n",
        "    image_string = tf.io.read_file(filename)\n",
        "    image_decoded = tf.io.decode_image(image_string,dtype=tf.float32) # decoding to tf.float32 make a normalization as well in one step without tf.cast \n",
        "    # Decode the image\n",
        "    image = image_decoded\n",
        "    # Normalize the image\n",
        "    label = tf.expand_dims(tf.cast(label, tf.float32), axis=-1)\n",
        "    print(image)\n",
        "    return image, label\n",
        "\n",
        "\"\"\" We now build a tensorflow Dataset object that shuffles the data with a shuffle buffer of size \"N_shuffle_buffer\", applies the parse_func via the .map() function with \"N_parallel_iterations\", creates batches \n",
        "of size \"batch_size\" and prefetches with \"N_prefetch\". Please fill in the missing code. \"\"\"\n",
        "  \n",
        "def build_dataset(files, labels, batch_size):\n",
        "    # Create tf data set\n",
        "    ds = tf.data.Dataset.from_tensor_slices((files,labels))\n",
        "    # Create data set of files and labels\n",
        "    ds = ds.shuffle(N_shuffle_buffer)\n",
        "    # Enable shuffling\n",
        "    ds = ds.map(parse_func,N_parallel_iterations)\n",
        "    # Apply parse_func\n",
        "    ds = ds.batch(batch_size).prefetch(N_prefetch)\n",
        "    # Batch and prefetch\n",
        "    return ds\n",
        "\n",
        "# Shuffle data and labels\n",
        "train_ds = build_dataset(files[0:N_training_examples],\n",
        "                                     labels[0:N_training_examples], batch_size).repeat()\n",
        "validation_ds = build_dataset(files[N_training_examples:N_training_examples+N_validation_examples],\n",
        "                                          labels[N_training_examples:N_training_examples+N_validation_examples],\n",
        "                                          batch_size)\n",
        "test_ds = build_dataset(files[N_training_examples+N_validation_examples:],\n",
        "                                    labels[N_training_examples+N_validation_examples:], batch_size)"
      ],
      "execution_count": 7,
      "outputs": [
        {
          "output_type": "stream",
          "text": [
            "Tensor(\"decode_image/cond_jpeg/Identity:0\", dtype=float32)\n",
            "Tensor(\"decode_image/cond_jpeg/Identity:0\", dtype=float32)\n",
            "Tensor(\"decode_image/cond_jpeg/Identity:0\", dtype=float32)\n"
          ],
          "name": "stdout"
        }
      ]
    },
    {
      "cell_type": "markdown",
      "metadata": {
        "colab_type": "text",
        "id": "s_oV4_VThr5f"
      },
      "source": [
        "Since the we loaded the file names of individual images and their corresponding labels, we need to load the actual image given its filename. For this we use the map function of the Dataset class. This function applies a function, in our case the parse_func function, to every sample in a batch. The parse_func function then reads the actual image given its name, decodes and normalizes it. It also makes sure that we use the correct dimensions and data types. With the build_dataset function we can then build a Dataset obejct, which first shuffles then applies the parse_func function and finnaly batches the data. In order to iterate many times over the data set, we repeat this process indefenetly.\n",
        "\n",
        "In order to train the model, we again use a function which does one training step. This function is similar to the previous part of this exercise with the addition of the @tf.function decorator, which tells Tensorflow to build this function as a graph in order to speed up repeated calls to it. We also use the mean absolute error (MAE) as a loss for training the model. This loss can be derived in the same way as in the previous part if we assume laplacian distributed noise in out signal model."
      ]
    },
    {
      "cell_type": "code",
      "metadata": {
        "colab_type": "code",
        "id": "yjMgN61ijYD2",
        "colab": {}
      },
      "source": [
        "\"\"\" For this application we will use the Mean Absolute Error (MAE) as a loss function for training. Please implement the loss and the training step.\"\"\"\n",
        "\n",
        "# Define loss function\n",
        "def loss(y, y_pred):  \n",
        "    return tf.reduce_mean(tf.keras.losses.MAE(y,y_pred))\n",
        "    # MAE between \"y\" and \"y_pred\"\n",
        "\n",
        "# Define training step as a complete graph\n",
        "@tf.function\n",
        "def train_step(model, optimizer, x, y):\n",
        "    with tf.GradientTape() as tape:\n",
        "        tape.watch(model.trainable_variables)\n",
        "        y_pred = model(x)\n",
        "        # Predict with model on \"x\"\n",
        "        loss_val = loss(y,y_pred)\n",
        "        # Compute the loss with \"y\" and \"y_pred\"\n",
        "    grads = tape.gradient(loss_val, model.trainable_variables)\n",
        "    optimizer.apply_gradients(zip(grads, model.trainable_variables))\n",
        "    return loss_val"
      ],
      "execution_count": 0,
      "outputs": []
    },
    {
      "cell_type": "markdown",
      "metadata": {
        "colab_type": "text",
        "id": "ZuoE9caslOI1"
      },
      "source": [
        "Now we just need to instantiate an instance of our model and an optimizer in order to start training. We also build the model in order to be able to print it's summary."
      ]
    },
    {
      "cell_type": "code",
      "metadata": {
        "colab_type": "code",
        "id": "uQ1C4NEklURm",
        "outputId": "92682867-746d-499b-eb53-f3430dd86e25",
        "colab": {
          "base_uri": "https://localhost:8080/",
          "height": 391
        }
      },
      "source": [
        "mdl = MyModel()\n",
        "opt = tf.optimizers.RMSprop(learning_rate)\n",
        "mdl.build((batch_size, 200, 200, 3))\n",
        "mdl.summary()\n",
        "# !nvidia-smi"
      ],
      "execution_count": 9,
      "outputs": [
        {
          "output_type": "stream",
          "text": [
            "Model: \"my_model\"\n",
            "_________________________________________________________________\n",
            "Layer (type)                 Output Shape              Param #   \n",
            "=================================================================\n",
            "conv2d (Conv2D)              multiple                  608       \n",
            "_________________________________________________________________\n",
            "conv2d_1 (Conv2D)            multiple                  3216      \n",
            "_________________________________________________________________\n",
            "flatten (Flatten)            multiple                  0         \n",
            "_________________________________________________________________\n",
            "dropout (Dropout)            multiple                  0         \n",
            "_________________________________________________________________\n",
            "dense (Dense)                multiple                  295040    \n",
            "_________________________________________________________________\n",
            "dense_1 (Dense)              multiple                  8256      \n",
            "_________________________________________________________________\n",
            "dense_2 (Dense)              multiple                  65        \n",
            "=================================================================\n",
            "Total params: 307,185\n",
            "Trainable params: 307,185\n",
            "Non-trainable params: 0\n",
            "_________________________________________________________________\n"
          ],
          "name": "stdout"
        }
      ]
    },
    {
      "cell_type": "markdown",
      "metadata": {
        "colab_type": "text",
        "id": "NSn4sAMflaKI"
      },
      "source": [
        "We use a similar loop as in the previous part of this exercise for training."
      ]
    },
    {
      "cell_type": "code",
      "metadata": {
        "colab_type": "code",
        "id": "C1HPWl5Cl0DR",
        "outputId": "efa811a2-418d-48aa-9696-85e4fa8b901b",
        "colab": {
          "base_uri": "https://localhost:8080/",
          "height": 357
        }
      },
      "source": [
        "# Run training\n",
        "import math\n",
        "epoch = 0\n",
        "train_loss = 0.0\n",
        "train_iters = 0\n",
        "for train_images, train_labels in train_ds:\n",
        "    # print(train_images.shape,train_labels.shape)\n",
        "    if not train_iters == math.ceil(N_training_examples/batch_size)-1:\n",
        "      train_loss += train_step(mdl,opt,train_images,train_labels)\n",
        "      # Perform a train step\n",
        "    train_iters += 1\n",
        "    if train_iters == math.ceil(N_training_examples/batch_size):\n",
        "        epoch += 1\n",
        "        val_loss = 0.0\n",
        "        val_iters = 0\n",
        "        for val_images, val_labels in validation_ds:\n",
        "            y_pred = mdl(val_images)\n",
        "            # Predict on validation images\n",
        "            loss_val = loss(val_labels,y_pred)\n",
        "            # Compute loss for validation\n",
        "            val_loss += loss_val\n",
        "            val_iters += 1\n",
        "            if val_iters == int(N_validation_examples/batch_size):\n",
        "                print(\"Epoch: {} Training loss: {:.5} Validation loss {:.5}\"\n",
        "                      .format(epoch, train_loss/(train_iters-1), val_loss/val_iters))\n",
        "                break\n",
        "        train_loss = 0.0\n",
        "        train_iters = 0\n",
        "    if epoch == N_epochs:\n",
        "        break\n"
      ],
      "execution_count": 10,
      "outputs": [
        {
          "output_type": "stream",
          "text": [
            "Epoch: 1 Training loss: 16.202 Validation loss 13.53\n",
            "Epoch: 2 Training loss: 13.231 Validation loss 10.429\n",
            "Epoch: 3 Training loss: 11.559 Validation loss 11.891\n",
            "Epoch: 4 Training loss: 10.524 Validation loss 9.7544\n",
            "Epoch: 5 Training loss: 10.047 Validation loss 8.6692\n",
            "Epoch: 6 Training loss: 9.5842 Validation loss 9.8947\n",
            "Epoch: 7 Training loss: 9.2358 Validation loss 10.752\n",
            "Epoch: 8 Training loss: 8.9977 Validation loss 8.2724\n",
            "Epoch: 9 Training loss: 8.7079 Validation loss 7.8398\n",
            "Epoch: 10 Training loss: 8.4794 Validation loss 7.9095\n",
            "Epoch: 11 Training loss: 8.2829 Validation loss 8.7712\n",
            "Epoch: 12 Training loss: 8.1006 Validation loss 7.2688\n",
            "Epoch: 13 Training loss: 7.8615 Validation loss 7.3752\n",
            "Epoch: 14 Training loss: 7.6746 Validation loss 7.0802\n",
            "Epoch: 15 Training loss: 7.5108 Validation loss 7.1421\n",
            "Epoch: 16 Training loss: 7.3679 Validation loss 7.0768\n",
            "Epoch: 17 Training loss: 7.2057 Validation loss 6.8142\n",
            "Epoch: 18 Training loss: 7.0208 Validation loss 7.1902\n",
            "Epoch: 19 Training loss: 6.913 Validation loss 6.4795\n",
            "Epoch: 20 Training loss: 6.771 Validation loss 7.0588\n"
          ],
          "name": "stdout"
        }
      ]
    },
    {
      "cell_type": "markdown",
      "metadata": {
        "colab_type": "text",
        "id": "IkdWtN69Khno"
      },
      "source": [
        "Testing the model on the test data set is also similar to the previous part of this exercise."
      ]
    },
    {
      "cell_type": "code",
      "metadata": {
        "colab_type": "code",
        "id": "t13d1a0xKrx3",
        "outputId": "d2020ad3-dd3a-4ebf-c2a1-ba883ee05d46",
        "colab": {
          "base_uri": "https://localhost:8080/",
          "height": 34
        }
      },
      "source": [
        "# Test model\n",
        "Num_test_batches = int((len(files)-N_training_examples-N_validation_examples)/batch_size)\n",
        "test_loss = 0.0\n",
        "test_iters = 0\n",
        "for test_images, test_labels in test_ds:\n",
        "    y_pred = mdl(test_images)\n",
        "    # Predict on test images\n",
        "    test_loss += loss(test_labels,y_pred)\n",
        "    # Compute test loss\n",
        "    test_iters += 1\n",
        "    if test_iters == Num_test_batches:\n",
        "        print(\"Test loss: {:.5}\".format(test_loss/test_iters))\n",
        "        break"
      ],
      "execution_count": 11,
      "outputs": [
        {
          "output_type": "stream",
          "text": [
            "Test loss: 7.5064\n"
          ],
          "name": "stdout"
        }
      ]
    },
    {
      "cell_type": "markdown",
      "metadata": {
        "colab_type": "text",
        "id": "rMOKzIG8SUbq"
      },
      "source": [
        "We again can compare the training, validation and test losses in order to verify if our model is overfitting or not. We can now also upload our own images and predict on them. For this we need to upload an image which contains a quadratic potrait with the face aligned in the center."
      ]
    },
    {
      "cell_type": "code",
      "metadata": {
        "colab_type": "code",
        "id": "hmZMBW8eSUI9",
        "colab": {
          "base_uri": "https://localhost:8080/",
          "height": 417
        },
        "outputId": "ea2d7b68-bde8-4912-dff7-b2030bc6ade8"
      },
      "source": [
        "from google.colab import files\n",
        "uploaded = files.upload()\n",
        "fn = list(uploaded.keys())[0]\n",
        "  "
      ],
      "execution_count": 12,
      "outputs": [
        {
          "output_type": "display_data",
          "data": {
            "text/html": [
              "\n",
              "     <input type=\"file\" id=\"files-cdf94e36-5479-4a8a-87f2-d50c46d2985b\" name=\"files[]\" multiple disabled />\n",
              "     <output id=\"result-cdf94e36-5479-4a8a-87f2-d50c46d2985b\">\n",
              "      Upload widget is only available when the cell has been executed in the\n",
              "      current browser session. Please rerun this cell to enable.\n",
              "      </output>\n",
              "      <script src=\"/nbextensions/google.colab/files.js\"></script> "
            ],
            "text/plain": [
              "<IPython.core.display.HTML object>"
            ]
          },
          "metadata": {
            "tags": []
          }
        },
        {
          "output_type": "error",
          "ename": "MessageError",
          "evalue": "ignored",
          "traceback": [
            "\u001b[0;31m---------------------------------------------------------------------------\u001b[0m",
            "\u001b[0;31mMessageError\u001b[0m                              Traceback (most recent call last)",
            "\u001b[0;32m<ipython-input-12-d90c8cda1d76>\u001b[0m in \u001b[0;36m<module>\u001b[0;34m()\u001b[0m\n\u001b[1;32m      1\u001b[0m \u001b[0;32mfrom\u001b[0m \u001b[0mgoogle\u001b[0m\u001b[0;34m.\u001b[0m\u001b[0mcolab\u001b[0m \u001b[0;32mimport\u001b[0m \u001b[0mfiles\u001b[0m\u001b[0;34m\u001b[0m\u001b[0;34m\u001b[0m\u001b[0m\n\u001b[0;32m----> 2\u001b[0;31m \u001b[0muploaded\u001b[0m \u001b[0;34m=\u001b[0m \u001b[0mfiles\u001b[0m\u001b[0;34m.\u001b[0m\u001b[0mupload\u001b[0m\u001b[0;34m(\u001b[0m\u001b[0;34m)\u001b[0m\u001b[0;34m\u001b[0m\u001b[0;34m\u001b[0m\u001b[0m\n\u001b[0m\u001b[1;32m      3\u001b[0m \u001b[0mfn\u001b[0m \u001b[0;34m=\u001b[0m \u001b[0mlist\u001b[0m\u001b[0;34m(\u001b[0m\u001b[0muploaded\u001b[0m\u001b[0;34m.\u001b[0m\u001b[0mkeys\u001b[0m\u001b[0;34m(\u001b[0m\u001b[0;34m)\u001b[0m\u001b[0;34m)\u001b[0m\u001b[0;34m[\u001b[0m\u001b[0;36m0\u001b[0m\u001b[0;34m]\u001b[0m\u001b[0;34m\u001b[0m\u001b[0;34m\u001b[0m\u001b[0m\n\u001b[1;32m      4\u001b[0m \u001b[0;34m\u001b[0m\u001b[0m\n",
            "\u001b[0;32m/usr/local/lib/python3.6/dist-packages/google/colab/files.py\u001b[0m in \u001b[0;36mupload\u001b[0;34m()\u001b[0m\n\u001b[1;32m     66\u001b[0m   result = _output.eval_js(\n\u001b[1;32m     67\u001b[0m       'google.colab._files._uploadFiles(\"{input_id}\", \"{output_id}\")'.format(\n\u001b[0;32m---> 68\u001b[0;31m           input_id=input_id, output_id=output_id))\n\u001b[0m\u001b[1;32m     69\u001b[0m   \u001b[0mfiles\u001b[0m \u001b[0;34m=\u001b[0m \u001b[0m_collections\u001b[0m\u001b[0;34m.\u001b[0m\u001b[0mdefaultdict\u001b[0m\u001b[0;34m(\u001b[0m\u001b[0m_six\u001b[0m\u001b[0;34m.\u001b[0m\u001b[0mbinary_type\u001b[0m\u001b[0;34m)\u001b[0m\u001b[0;34m\u001b[0m\u001b[0;34m\u001b[0m\u001b[0m\n\u001b[1;32m     70\u001b[0m   \u001b[0;31m# Mapping from original filename to filename as saved locally.\u001b[0m\u001b[0;34m\u001b[0m\u001b[0;34m\u001b[0m\u001b[0;34m\u001b[0m\u001b[0m\n",
            "\u001b[0;32m/usr/local/lib/python3.6/dist-packages/google/colab/output/_js.py\u001b[0m in \u001b[0;36meval_js\u001b[0;34m(script, ignore_result)\u001b[0m\n\u001b[1;32m     37\u001b[0m   \u001b[0;32mif\u001b[0m \u001b[0mignore_result\u001b[0m\u001b[0;34m:\u001b[0m\u001b[0;34m\u001b[0m\u001b[0;34m\u001b[0m\u001b[0m\n\u001b[1;32m     38\u001b[0m     \u001b[0;32mreturn\u001b[0m\u001b[0;34m\u001b[0m\u001b[0;34m\u001b[0m\u001b[0m\n\u001b[0;32m---> 39\u001b[0;31m   \u001b[0;32mreturn\u001b[0m \u001b[0m_message\u001b[0m\u001b[0;34m.\u001b[0m\u001b[0mread_reply_from_input\u001b[0m\u001b[0;34m(\u001b[0m\u001b[0mrequest_id\u001b[0m\u001b[0;34m)\u001b[0m\u001b[0;34m\u001b[0m\u001b[0;34m\u001b[0m\u001b[0m\n\u001b[0m\u001b[1;32m     40\u001b[0m \u001b[0;34m\u001b[0m\u001b[0m\n\u001b[1;32m     41\u001b[0m \u001b[0;34m\u001b[0m\u001b[0m\n",
            "\u001b[0;32m/usr/local/lib/python3.6/dist-packages/google/colab/_message.py\u001b[0m in \u001b[0;36mread_reply_from_input\u001b[0;34m(message_id, timeout_sec)\u001b[0m\n\u001b[1;32m    104\u001b[0m         reply.get('colab_msg_id') == message_id):\n\u001b[1;32m    105\u001b[0m       \u001b[0;32mif\u001b[0m \u001b[0;34m'error'\u001b[0m \u001b[0;32min\u001b[0m \u001b[0mreply\u001b[0m\u001b[0;34m:\u001b[0m\u001b[0;34m\u001b[0m\u001b[0;34m\u001b[0m\u001b[0m\n\u001b[0;32m--> 106\u001b[0;31m         \u001b[0;32mraise\u001b[0m \u001b[0mMessageError\u001b[0m\u001b[0;34m(\u001b[0m\u001b[0mreply\u001b[0m\u001b[0;34m[\u001b[0m\u001b[0;34m'error'\u001b[0m\u001b[0;34m]\u001b[0m\u001b[0;34m)\u001b[0m\u001b[0;34m\u001b[0m\u001b[0;34m\u001b[0m\u001b[0m\n\u001b[0m\u001b[1;32m    107\u001b[0m       \u001b[0;32mreturn\u001b[0m \u001b[0mreply\u001b[0m\u001b[0;34m.\u001b[0m\u001b[0mget\u001b[0m\u001b[0;34m(\u001b[0m\u001b[0;34m'data'\u001b[0m\u001b[0;34m,\u001b[0m \u001b[0;32mNone\u001b[0m\u001b[0;34m)\u001b[0m\u001b[0;34m\u001b[0m\u001b[0;34m\u001b[0m\u001b[0m\n\u001b[1;32m    108\u001b[0m \u001b[0;34m\u001b[0m\u001b[0m\n",
            "\u001b[0;31mMessageError\u001b[0m: TypeError: Cannot read property '_uploadFiles' of undefined"
          ]
        }
      ]
    },
    {
      "cell_type": "markdown",
      "metadata": {
        "colab_type": "text",
        "id": "0qHY4pl1Suzv"
      },
      "source": [
        "Now we do a prediction  and plot the result."
      ]
    },
    {
      "cell_type": "code",
      "metadata": {
        "colab_type": "code",
        "id": "GW1trSa7SxfF",
        "colab": {}
      },
      "source": [
        "\"\"\" For predicting on the uploaded image, open and decode it using tf.io. After that we also need to normalize and resize it using tf.image.resize. Hint: For predicting with our model we need to add a batch dimension\n",
        "of 1, since we effectively feed our model with a batch containing only one image.\"\"\"\n",
        "\n",
        "\n",
        "# Load and predict on an image\n",
        "image_string = tf.io.read_file(fn)\n",
        " # Load image with path \"fn\"\n",
        "image_decoded = tf.expand_dims(tf.io.decode_image(image_string,dtype=tf.float32),axis=0)\n",
        "# # Decode the image and add a batch dimension\n",
        "image = tf.image.resize(image_decoded,(200,200))\n",
        "# Normalize, resize to 200x200 pixels and cast image to tf.float32\n",
        "age = mdl(image)\n",
        "\n",
        "# # Plot image and prediction\n",
        "plt.imshow(np.squeeze(image.numpy()))\n",
        "plt.title(\"Age prediction: {:.3}\".format(np.squeeze(age.numpy())))\n",
        "plt.show()"
      ],
      "execution_count": 0,
      "outputs": []
    },
    {
      "cell_type": "markdown",
      "metadata": {
        "colab_type": "text",
        "id": "uULbhmkTIK4y"
      },
      "source": [
        "## Conclusion\n",
        "In this part of the exercise we have applied the concept of regression to the problem of estimating the age of a person from his or her potrait. In this process we have seen how to load images from their filenames with the map function of the Dataset class. With this, images are loaded just in time as they are needed, which is beneficial if you are working with a large number of high resolution images that do not fit into your system memory all at once. We also used Keras in order to build our model from predefined layers. If the layers you need for building your model are available through Keras, it is highly recommended to use those in order to speed up develpment time and reduce possible error sources. We also observed that the labeling of the individual images is not optimal for our task, since it is rounded to integer ages and in the setting of regression we would rather like to have continuous age labels."
      ]
    },
    {
      "cell_type": "code",
      "metadata": {
        "id": "3vLvztWDjYje",
        "colab_type": "code",
        "colab": {}
      },
      "source": [
        "mdl.save_weights(\"model.h5\")"
      ],
      "execution_count": 0,
      "outputs": []
    },
    {
      "cell_type": "markdown",
      "metadata": {
        "id": "_aoddZ-ypUDc",
        "colab_type": "text"
      },
      "source": [
        "Download  the model.h5 and use the netron on your local machine by installing netron using !pip install netron"
      ]
    }
  ]
}